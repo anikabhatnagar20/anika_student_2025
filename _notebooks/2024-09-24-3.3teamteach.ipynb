{
 "cells": [
  {
   "cell_type": "markdown",
   "metadata": {},
   "source": [
    "---\n",
    "layout: post\n",
    "title: Team Teach\n",
    "description:  Tools and Software Development for Sprint 1\n",
    "type: issues \n",
    "comments: true\n",
    "---"
   ]
  },
  {
   "cell_type": "markdown",
   "metadata": {},
   "source": [
    "Purpose of Else Statements: Handles what happens when the if condition is false.\n",
    "Structure of If-Else:\n",
    "- If statement with a condition.\n",
    "- Else statement without a condition.\n",
    "- Both parts have code blocks surrounded by {}.\n",
    "\n",
    "<img width=\"816\" alt=\"image\" src=\"https://github.com/user-attachments/assets/c6701143-b87f-427b-a206-6cee0660571c\">\n",
    "\n",
    "1. Based on this code, if you were younger than 16 what would it print out?\n",
    "2. Write your own if else statement\n"
   ]
  },
  {
   "cell_type": "markdown",
   "metadata": {},
   "source": [
    "Else If Statements: Used when you have multiple conditions that need to be checked sequentially.\n",
    "\n",
    "Flow of Execution: Each condition is evaluated in the order written. The first true condition's code runs, and the rest are skipped.\n",
    "\n",
    "Structure:\n",
    "\n",
    "- Start with a single if statement.\n",
    "- Follow with as many else if statements as needed.\n",
    "- Optionally end with one else to handle any remaining cases.\n",
    "Key Concept: The order of conditions matters. More specific conditions should come before broader ones to ensure accurate results.\n",
    "\n",
    "<img width=\"734\" alt=\"image\" src=\"https://github.com/user-attachments/assets/d7864258-6f7a-4de1-a6f3-4905dd3eb503\">\n",
    "\n",
    "1. If I was 19 what would it print out? \n",
    "2. If I was 13 what would it print out? \n",
    "3. Create your if statement with one else if condition. \n",
    "\n",
    "\n",
    "\n",
    "\n",
    "\n"
   ]
  }
 ],
 "metadata": {
  "language_info": {
   "name": "python"
  },
  "orig_nbformat": 4
 },
 "nbformat": 4,
 "nbformat_minor": 2
}
