{
 "cells": [
  {
   "cell_type": "markdown",
   "metadata": {},
   "source": [
    "---\n",
    "layout: post\n",
    "type: collab\n",
    "title: Unit 4 - HW Quiz\n",
    "description: Unit 4 Team Teach HW QUIZ\n",
    "comments: true\n",
    "permalink: /csa/unit4-p1/unit4-hwquiz\n",
    "menu: nav/CSA_Units/csa_unit4_p1.html\n",
    "author: hanlun, saaras, arthur, miheer, eshaan, beijan\n",
    "---"
   ]
  },
  {
   "cell_type": "markdown",
   "metadata": {},
   "source": [
    "## Unit 4 - Iteration:\n",
    "- This is the homework quiz for unit 4, iterations\n",
    "- 4 multiple choice questions\n",
    "- 2 programming hacks\n",
    "- 1 bonus programming hack (required to get above 0.9)"
   ]
  },
  {
   "cell_type": "markdown",
   "metadata": {},
   "source": [
    "### Question 1:\n",
    "What does the following code print?   \n",
    "\n",
    "A. 5 6 7 8 9   \n",
    "\n",
    "B. 4 5 6 7 8 9 10 11 12   \n",
    "\n",
    "C. 3 5 7 9 11   \n",
    "\n",
    "D. 3 4 5 6 7 8 9 10 11 12   \n",
    "\n",
    "<details>\n",
    "<summary>Click to reveal answer:</summary> \n",
    "  D\n",
    "</details>\n",
    "\n",
    "Explain your answer. (explanation is graded not answer)"
   ]
  },
  {
   "cell_type": "code",
   "execution_count": null,
   "metadata": {
    "vscode": {
     "languageId": "java"
    }
   },
   "outputs": [],
   "source": [
    "for (int i = 3; i <= 12; i++) {\n",
    "   System.out.print(i + \" \");\n",
    "}"
   ]
  },
  {
   "cell_type": "markdown",
   "metadata": {},
   "source": [
    "The code would print out D becuase it starts at 3 becuase the \"i=3\" and then it would keep adding 1 until it gets to 12 becuase it says <= to 12. "
   ]
  },
  {
   "cell_type": "markdown",
   "metadata": {},
   "source": [
    "### Bonus:\n",
    "- Explain the difference between using a variable like i inside a for loop, vs. using a variable that exists in the code itself for a while loop\n",
    "\n",
    "A for loop controls the variable internally, while a while loop uses an external variable managed manually inside the loop."
   ]
  },
  {
   "cell_type": "markdown",
   "metadata": {},
   "source": [
    "### Question 2:\n",
    "How many times does the following method print a \"*\" ?\n",
    "\n",
    "A. 9\n",
    "\n",
    "B. 7\n",
    "\n",
    "C. 8\n",
    "\n",
    "D. 6\n",
    "\n",
    "<details>\n",
    "<summary>Click to reveal answer:</summary> \n",
    "  C\n",
    "</details>\n",
    "\n",
    "Explain your answer. (explanation is graded not answer)"
   ]
  },
  {
   "cell_type": "code",
   "execution_count": null,
   "metadata": {
    "vscode": {
     "languageId": "java"
    }
   },
   "outputs": [],
   "source": [
    "for (int i = 3; i < 11; i++) {\n",
    "   System.out.print(\"*\");\n",
    "}"
   ]
  },
  {
   "cell_type": "markdown",
   "metadata": {},
   "source": [
    "C because it would print it out 8 times because if its at 3, then printing out an astrik until it gets 10. It would be 8 and not 7 because it prints out an * for 3. "
   ]
  },
  {
   "cell_type": "markdown",
   "metadata": {},
   "source": [
    "### Question 3:\n",
    "What does the following code print?\n",
    "\n",
    "A. -4 -3 -2 -1 0\n",
    "\n",
    "B. -5 -4 -3 -2 -1\n",
    "\n",
    "C. 5 4 3 2 1\n",
    "\n",
    "<details>\n",
    "<summary>Click to reveal answer:</summary> \n",
    "  A\n",
    "</details>\n",
    "\n",
    "Explain your answer. (explanation is graded not answer)"
   ]
  },
  {
   "cell_type": "code",
   "execution_count": null,
   "metadata": {
    "vscode": {
     "languageId": "java"
    }
   },
   "outputs": [],
   "source": [
    "int x = -5;\n",
    "while (x < 0)\n",
    "{\n",
    "   x++;\n",
    "   System.out.print(x + \" \");\n",
    "}"
   ]
  },
  {
   "cell_type": "markdown",
   "metadata": {},
   "source": [
    "A because it adds 1 to it everytime, but then stops once it reaches 0 because x is no longer less than 0. "
   ]
  },
  {
   "cell_type": "markdown",
   "metadata": {},
   "source": [
    "### Question 4:\n",
    "What does the following code print?\n",
    "\n",
    "A. 20\n",
    "\n",
    "B. 21\n",
    "\n",
    "C. 25\n",
    "\n",
    "D. 30\n",
    "\n",
    "<details>\n",
    "<summary>Click to reveal answer:</summary> \n",
    "  B\n",
    "</details>\n",
    "\n",
    "Explain your answer. (explanation is graded not answer)"
   ]
  },
  {
   "cell_type": "code",
   "execution_count": null,
   "metadata": {
    "vscode": {
     "languageId": "java"
    }
   },
   "outputs": [],
   "source": [
    "int sum = 0;\n",
    "\n",
    "for (int i = 1; i <= 5; i++) {\n",
    "    if (i % 2 == 0) {\n",
    "        sum += i * 2;\n",
    "    } else {\n",
    "        sum += i;\n",
    "    }\n",
    "}\n",
    "\n",
    "System.out.println(sum);"
   ]
  },
  {
   "cell_type": "markdown",
   "metadata": {},
   "source": [
    "B because the code will print 21. It adds 1 for i = 1, then adds 4 (double of 2) for i = 2, adds 3 for i = 3, adds 8 (double of 4) for i = 4, and finally adds 5 for i = 5. The total sum is 21."
   ]
  },
  {
   "cell_type": "markdown",
   "metadata": {},
   "source": [
    "## Loops HW Hack"
   ]
  },
  {
   "cell_type": "markdown",
   "metadata": {},
   "source": [
    "### Easy Hack\n",
    "- Use a while loop to find the numbers from 1-50 that are divisible by 3 or 5, then store them into a list (make sure to print it out at the end)\n",
    "- Use a for loop to do the same thing detailed above"
   ]
  },
  {
   "cell_type": "code",
   "execution_count": 5,
   "metadata": {
    "vscode": {
     "languageId": "java"
    }
   },
   "outputs": [
    {
     "name": "stdout",
     "output_type": "stream",
     "text": [
      "0\n",
      "3\n",
      "5\n",
      "6\n",
      "9\n",
      "10\n",
      "12\n",
      "15\n",
      "18\n",
      "20\n",
      "21\n",
      "24\n",
      "25\n",
      "27\n",
      "30\n",
      "33\n",
      "35\n",
      "36\n",
      "39\n",
      "40\n",
      "42\n",
      "45\n",
      "48\n",
      "50\n"
     ]
    }
   ],
   "source": [
    "int index = 0; // iterating value\n",
    "while (index <= 50) { // condition, if this is false, the loop terminates\n",
    "    if (index % 3 == 0 || index % 5 == 0) { // check if divisible by 3 or 5\n",
    "        System.out.println(index); // prints only if divisible by 3 or 5\n",
    "    }\n",
    "    index++; // iterates the iterating value\n",
    "}\n",
    "\n"
   ]
  },
  {
   "cell_type": "code",
   "execution_count": 6,
   "metadata": {
    "vscode": {
     "languageId": "java"
    }
   },
   "outputs": [
    {
     "name": "stdout",
     "output_type": "stream",
     "text": [
      "0\n",
      "3\n",
      "5\n",
      "6\n",
      "9\n",
      "10\n",
      "12\n",
      "15\n",
      "18\n",
      "20\n",
      "21\n",
      "24\n",
      "25\n",
      "27\n",
      "30\n",
      "33\n",
      "35\n",
      "36\n",
      "39\n",
      "40\n",
      "42\n",
      "45\n",
      "48\n",
      "50\n"
     ]
    }
   ],
   "source": [
    "for (int index = 0; index <= 50; index++) { // iterating value\n",
    "    if (index % 3 == 0 || index % 5 == 0) { // check if divisible by 3 or 5\n",
    "        System.out.println(index); // prints only if divisible by 3 or 5\n",
    "    }\n",
    "}"
   ]
  },
  {
   "cell_type": "markdown",
   "metadata": {},
   "source": [
    "### Harder Hack\n",
    "#### Palindromes are numbers that have the same value when reversed (ex: “123321” or “323”). Create a program that uses a while loop that outputs all palindromes in any given list. \n",
    "\n",
    "Sample Input: \n",
    "test_list = [5672, 235, 5537, 6032, 317, 8460, 1672, 8104, 7770, 4442, 913, 2508, 1116, 9969, 9091, 522, 8756, 9527, 7968, 1520, 4444, 515, 2882, 6556, 595]\n",
    "\n",
    "Sample Output:\n",
    "4444, 515, 2882, 6556, 595"
   ]
  },
  {
   "cell_type": "code",
   "execution_count": 7,
   "metadata": {
    "vscode": {
     "languageId": "java"
    }
   },
   "outputs": [],
   "source": [
    "import java.util.ArrayList;\n",
    "import java.util.List;\n",
    "\n",
    "public class PalindromeFinder {\n",
    "    public static void main(String[] args) {\n",
    "        List<Integer> testList = List.of(5672, 235, 5537, 6032, 317, 8460, 1672, 8104, \n",
    "                                          7770, 4442, 913, 2508, 1116, 9969, 9091, \n",
    "                                          522, 8756, 9527, 7968, 1520, 4444, 515, \n",
    "                                          2882, 6556, 595);\n",
    "        \n",
    "        List<Integer> palindromes = new ArrayList<>();\n",
    "        int index = 0; // iterating value\n",
    "\n",
    "        while (index < testList.size()) { // condition, if this is false, the loop terminates\n",
    "            int num = testList.get(index);\n",
    "            if (isPalindrome(num)) { // check if the number is a palindrome\n",
    "                palindromes.add(num); // store the palindrome\n",
    "            }\n",
    "            index++; // iterates the iterating value\n",
    "        }\n",
    "\n",
    "        // Print the palindromes in the desired format\n",
    "        for (int i = 0; i < palindromes.size(); i++) {\n",
    "            System.out.print(palindromes.get(i));\n",
    "            if (i < palindromes.size() - 1) {\n",
    "                System.out.print(\", \"); // Print comma if not the last element\n",
    "            }\n",
    "        }\n",
    "    }\n",
    "\n",
    "    // Helper method to check if a number is a palindrome\n",
    "    private static boolean isPalindrome(int num) {\n",
    "        String strNum = Integer.toString(num);\n",
    "        String reversedNum = new StringBuilder(strNum).reverse().toString();\n",
    "        return strNum.equals(reversedNum);\n",
    "    }\n",
    "}"
   ]
  },
  {
   "cell_type": "markdown",
   "metadata": {},
   "source": [
    "## Bonus Hack (for above 0.9)\n",
    "### Use a for loop to output a spiral matrix with size n\n",
    "Example:\n",
    "\n",
    "Sample Input: n = 3\n",
    "\n",
    "Output: [[1, 2, 3], [8, 9, 4], [7, 6, 5]]"
   ]
  },
  {
   "cell_type": "code",
   "execution_count": null,
   "metadata": {
    "vscode": {
     "languageId": "java"
    }
   },
   "outputs": [],
   "source": [
    "public class SpiralMatrix {\n",
    "    public static void main(String[] args) {\n",
    "        int n = 3; // Sample input\n",
    "        int[][] spiral = new int[n][n];\n",
    "        \n",
    "        int left = 0, right = n - 1, top = 0, bottom = n - 1; // Boundaries\n",
    "        int num = 1; // Starting number\n",
    "        \n",
    "        while (num <= n * n) { // Continue until all numbers are filled\n",
    "            // Fill top row\n",
    "            for (int i = left; i <= right; i++) {\n",
    "                spiral[top][i] = num++;\n",
    "            }\n",
    "            top++; // Move top boundary down\n",
    "            \n",
    "            // Fill right column\n",
    "            for (int i = top; i <= bottom; i++) {\n",
    "                spiral[i][right] = num++;\n",
    "            }\n",
    "            right--; // Move right boundary left\n",
    "            \n",
    "            // Fill bottom row (if there's still a row)\n",
    "            for (int i = right; i >= left; i--) {\n",
    "                if (top <= bottom) {\n",
    "                    spiral[bottom][i] = num++;\n",
    "                }\n",
    "            }\n",
    "            bottom--; // Move bottom boundary up\n",
    "            \n",
    "            // Fill left column (if there's still a column)\n",
    "            for (int i = bottom; i >= top; i--) {\n",
    "                if (left <= right) {\n",
    "                    spiral[i][left] = num++;\n",
    "                }\n",
    "            }\n",
    "            left++; // Move left boundary right\n",
    "        }\n",
    "\n",
    "        // Print the spiral matrix\n",
    "        for (int[] row : spiral) {\n",
    "            System.out.print(\"[\");\n",
    "            for (int j = 0; j < row.length; j++) {\n",
    "                System.out.print(row[j]);\n",
    "                if (j < row.length - 1) {\n",
    "                    System.out.print(\", \");\n",
    "                }\n",
    "            }\n",
    "            System.out.println(\"]\");\n",
    "        }\n",
    "    }\n",
    "}"
   ]
  }
 ],
 "metadata": {
  "kernelspec": {
   "display_name": "Java",
   "language": "java",
   "name": "java"
  },
  "language_info": {
   "codemirror_mode": "java",
   "file_extension": ".jshell",
   "mimetype": "text/x-java-source",
   "name": "Java",
   "pygments_lexer": "java",
   "version": "17.0.12+0"
  }
 },
 "nbformat": 4,
 "nbformat_minor": 2
}
