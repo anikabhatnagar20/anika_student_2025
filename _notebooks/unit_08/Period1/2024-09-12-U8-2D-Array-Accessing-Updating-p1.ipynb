{
 "cells": [
  {
   "cell_type": "raw",
   "metadata": {
    "vscode": {
     "languageId": "raw"
    }
   },
   "source": [
    "---\n",
    "layout: post\n",
    "title: Unit 8 - 2D Arrays Accessing and Updating\n",
    "categories: [Collaboration]\n",
    "courses: {csa: {week: 3}}\n",
    "toc: true\n",
    "comments: true\n",
    "---"
   ]
  },
  {
   "cell_type": "markdown",
   "metadata": {},
   "source": [
    "## Accessing and updating the values of a 2D array\n",
    "In Java, accessing and updating values in a 2D array is done using the row and column indices. The general format is:\n",
    "\n",
    "~~~\n",
    "- **Accessing a value**: array[row][column]\n",
    "- **Updating a value**: array[row][column] = newValue;\n",
    "~~~\n",
    "\n",
    "![image](https://github.com/user-attachments/assets/b1f79b97-f81b-4ea5-951d-5c098fae0767)\n"
   ]
  }
 ],
 "metadata": {
  "kernelspec": {
   "display_name": "Java",
   "language": "java",
   "name": "java"
  },
  "language_info": {
   "codemirror_mode": "java",
   "file_extension": ".jshell",
   "mimetype": "text/x-java-source",
   "name": "Java",
   "pygments_lexer": "java",
   "version": "17.0.12+7-Ubuntu-1ubuntu222.04"
  },
  "orig_nbformat": 4
 },
 "nbformat": 4,
 "nbformat_minor": 2
}
